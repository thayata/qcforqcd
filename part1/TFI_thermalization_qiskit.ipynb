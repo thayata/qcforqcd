{
 "cells": [
  {
   "cell_type": "code",
   "execution_count": 1,
   "metadata": {
    "colab": {
     "base_uri": "https://localhost:8080/"
    },
    "executionInfo": {
     "elapsed": 14343,
     "status": "ok",
     "timestamp": 1677035427601,
     "user": {
      "displayName": "早田智也",
      "userId": "16393380850912644517"
     },
     "user_tz": -540
    },
    "id": "XdL-yGD6JDKg",
    "outputId": "7d5dc002-d242-44e0-c2b2-6bdc27e4ed9b"
   },
   "outputs": [
    {
     "name": "stdout",
     "output_type": "stream",
     "text": [
      "Looking in indexes: https://pypi.org/simple, https://us-python.pkg.dev/colab-wheels/public/simple/\n",
      "Requirement already satisfied: qiskit in /usr/local/lib/python3.8/dist-packages (0.41.0)\n",
      "Requirement already satisfied: qiskit-aer==0.11.2 in /usr/local/lib/python3.8/dist-packages (from qiskit) (0.11.2)\n",
      "Requirement already satisfied: qiskit-terra==0.23.1 in /usr/local/lib/python3.8/dist-packages (from qiskit) (0.23.1)\n",
      "Requirement already satisfied: qiskit-ibmq-provider==0.20.0 in /usr/local/lib/python3.8/dist-packages (from qiskit) (0.20.0)\n",
      "Requirement already satisfied: numpy>=1.16.3 in /usr/local/lib/python3.8/dist-packages (from qiskit-aer==0.11.2->qiskit) (1.21.6)\n",
      "Requirement already satisfied: scipy>=1.0 in /usr/local/lib/python3.8/dist-packages (from qiskit-aer==0.11.2->qiskit) (1.7.3)\n",
      "Requirement already satisfied: requests-ntlm>=1.1.0 in /usr/local/lib/python3.8/dist-packages (from qiskit-ibmq-provider==0.20.0->qiskit) (1.2.0)\n",
      "Requirement already satisfied: websockets>=10.0 in /usr/local/lib/python3.8/dist-packages (from qiskit-ibmq-provider==0.20.0->qiskit) (10.4)\n",
      "Requirement already satisfied: python-dateutil>=2.8.0 in /usr/local/lib/python3.8/dist-packages (from qiskit-ibmq-provider==0.20.0->qiskit) (2.8.2)\n",
      "Requirement already satisfied: urllib3>=1.21.1 in /usr/local/lib/python3.8/dist-packages (from qiskit-ibmq-provider==0.20.0->qiskit) (1.24.3)\n",
      "Requirement already satisfied: requests>=2.19 in /usr/local/lib/python3.8/dist-packages (from qiskit-ibmq-provider==0.20.0->qiskit) (2.25.1)\n",
      "Requirement already satisfied: websocket-client<=1.3.3 in /usr/local/lib/python3.8/dist-packages (from qiskit-ibmq-provider==0.20.0->qiskit) (1.3.3)\n",
      "Requirement already satisfied: stevedore>=3.0.0 in /usr/local/lib/python3.8/dist-packages (from qiskit-terra==0.23.1->qiskit) (5.0.0)\n",
      "Requirement already satisfied: ply>=3.10 in /usr/local/lib/python3.8/dist-packages (from qiskit-terra==0.23.1->qiskit) (3.11)\n",
      "Requirement already satisfied: dill>=0.3 in /usr/local/lib/python3.8/dist-packages (from qiskit-terra==0.23.1->qiskit) (0.3.6)\n",
      "Requirement already satisfied: rustworkx>=0.12.0 in /usr/local/lib/python3.8/dist-packages (from qiskit-terra==0.23.1->qiskit) (0.12.1)\n",
      "Requirement already satisfied: sympy>=1.3 in /usr/local/lib/python3.8/dist-packages (from qiskit-terra==0.23.1->qiskit) (1.7.1)\n",
      "Requirement already satisfied: psutil>=5 in /usr/local/lib/python3.8/dist-packages (from qiskit-terra==0.23.1->qiskit) (5.4.8)\n",
      "Requirement already satisfied: symengine>=0.9 in /usr/local/lib/python3.8/dist-packages (from qiskit-terra==0.23.1->qiskit) (0.9.2)\n",
      "Requirement already satisfied: six>=1.5 in /usr/local/lib/python3.8/dist-packages (from python-dateutil>=2.8.0->qiskit-ibmq-provider==0.20.0->qiskit) (1.15.0)\n",
      "Requirement already satisfied: certifi>=2017.4.17 in /usr/local/lib/python3.8/dist-packages (from requests>=2.19->qiskit-ibmq-provider==0.20.0->qiskit) (2022.12.7)\n",
      "Requirement already satisfied: chardet<5,>=3.0.2 in /usr/local/lib/python3.8/dist-packages (from requests>=2.19->qiskit-ibmq-provider==0.20.0->qiskit) (4.0.0)\n",
      "Requirement already satisfied: idna<3,>=2.5 in /usr/local/lib/python3.8/dist-packages (from requests>=2.19->qiskit-ibmq-provider==0.20.0->qiskit) (2.10)\n",
      "Requirement already satisfied: cryptography>=1.3 in /usr/local/lib/python3.8/dist-packages (from requests-ntlm>=1.1.0->qiskit-ibmq-provider==0.20.0->qiskit) (39.0.1)\n",
      "Requirement already satisfied: pyspnego>=0.1.6 in /usr/local/lib/python3.8/dist-packages (from requests-ntlm>=1.1.0->qiskit-ibmq-provider==0.20.0->qiskit) (0.8.0)\n",
      "Requirement already satisfied: pbr!=2.1.0,>=2.0.0 in /usr/local/lib/python3.8/dist-packages (from stevedore>=3.0.0->qiskit-terra==0.23.1->qiskit) (5.11.1)\n",
      "Requirement already satisfied: mpmath>=0.19 in /usr/local/lib/python3.8/dist-packages (from sympy>=1.3->qiskit-terra==0.23.1->qiskit) (1.2.1)\n",
      "Requirement already satisfied: cffi>=1.12 in /usr/local/lib/python3.8/dist-packages (from cryptography>=1.3->requests-ntlm>=1.1.0->qiskit-ibmq-provider==0.20.0->qiskit) (1.15.1)\n",
      "Requirement already satisfied: pycparser in /usr/local/lib/python3.8/dist-packages (from cffi>=1.12->cryptography>=1.3->requests-ntlm>=1.1.0->qiskit-ibmq-provider==0.20.0->qiskit) (2.21)\n"
     ]
    }
   ],
   "source": [
    "!pip install qiskit\n",
    "import math\n",
    "import numpy as np\n",
    "import pandas as pd\n",
    "from tqdm import tqdm\n",
    "\n",
    "from qiskit import QuantumRegister, ClassicalRegister, QuantumCircuit\n",
    "from qiskit import Aer, execute\n",
    "\n",
    "import matplotlib.pyplot as plt\n",
    "from matplotlib import rc\n",
    "rc('font',**{'family':'sans-serif','sans-serif':['Helvetica'],'size':12})\n",
    "### for Palatino and other serif fonts use:\n",
    "##rc('font',**{'family':'serif','serif':['Palatino']})\n",
    "#rc('text', usetex=True)"
   ]
  },
  {
   "cell_type": "code",
   "execution_count": null,
   "metadata": {
    "id": "-RVp-YM4JDKi"
   },
   "outputs": [],
   "source": []
  },
  {
   "cell_type": "code",
   "execution_count": 2,
   "metadata": {
    "executionInfo": {
     "elapsed": 5,
     "status": "ok",
     "timestamp": 1677035432858,
     "user": {
      "displayName": "早田智也",
      "userId": "16393380850912644517"
     },
     "user_tz": -540
    },
    "id": "JYD8dWxHJDKi"
   },
   "outputs": [],
   "source": [
    "def X(qc,q,theta):\n",
    "    \"\"\"\n",
    "    exp(-i*theta*X)\n",
    "    \"\"\"\n",
    "    qc.rx(2*theta,q)\n",
    "    \n",
    "    \n",
    "def Y(qc,q,theta):\n",
    "    \"\"\"\n",
    "    exp(-i*theta*Y)\n",
    "    \"\"\"\n",
    "    qc.ry(2*theta,q)\n",
    "        \n",
    "    \n",
    "def Z(qc,q,theta):\n",
    "    \"\"\"\n",
    "    exp(-i*theta*Z)\n",
    "    \"\"\"\n",
    "    qc.rz(2*theta,q)\n",
    "    \n",
    "    \n",
    "def XX(qc,q0,q1,theta):\n",
    "    \"\"\"\n",
    "    exp(-i*theta*X0*X1)\n",
    "    \"\"\"\n",
    "    qc.cx(q0,q1)\n",
    "    qc.rx(2*theta,q0)\n",
    "    qc.cx(q0,q1)\n",
    "    \n",
    "    \n",
    "def YY(qc,q0,q1,theta):\n",
    "    \"\"\"\n",
    "    exp(-i*theta*Y0*Y1)\n",
    "    \"\"\"\n",
    "    qc.sdg(q0); qc.sdg(q1)\n",
    "    qc.cx(q0,q1)\n",
    "    qc.rx(2*theta,q0)\n",
    "    qc.cx(q0,q1)\n",
    "    qc.s(q0); qc.s(q1)\n",
    "    \n",
    "\n",
    "def ZZ(qc,q0,q1,theta):\n",
    "    \"\"\"\n",
    "    exp(-i*theta*Z0*Z1)\n",
    "    \"\"\"\n",
    "    qc.cx(q1,q0)\n",
    "    qc.rz(2*theta,q0)\n",
    "    qc.cx(q1,q0)"
   ]
  },
  {
   "cell_type": "code",
   "execution_count": 3,
   "metadata": {
    "executionInfo": {
     "elapsed": 350,
     "status": "ok",
     "timestamp": 1677035443377,
     "user": {
      "displayName": "早田智也",
      "userId": "16393380850912644517"
     },
     "user_tz": -540
    },
    "id": "zlccuA4EJDKj"
   },
   "outputs": [],
   "source": [
    "def U_ising(qc,q,h,m,dt):\n",
    "    \"\"\"\n",
    "    exp(-i*dt*H_ising)\n",
    "    h: coeff of transverse field\n",
    "    m: coeff of longitudinal field\n",
    "    \"\"\"\n",
    "    N = len(q)\n",
    "    for i in range(N-1):\n",
    "        ZZ(qc,q[i],q[i+1],dt)\n",
    "    for i in range(N):\n",
    "        Z(qc,q[i],m*dt)\n",
    "        X(qc,q[i],h*dt)"
   ]
  },
  {
   "cell_type": "code",
   "execution_count": 4,
   "metadata": {
    "executionInfo": {
     "elapsed": 289,
     "status": "ok",
     "timestamp": 1677035444668,
     "user": {
      "displayName": "早田智也",
      "userId": "16393380850912644517"
     },
     "user_tz": -540
    },
    "id": "fGPZvy-5JDKk"
   },
   "outputs": [],
   "source": [
    "def basis_rotation(qc,q):\n",
    "    N = len(q)\n",
    "    for i in range(N):\n",
    "        qc.h(q[i])"
   ]
  },
  {
   "cell_type": "code",
   "execution_count": 5,
   "metadata": {
    "executionInfo": {
     "elapsed": 2,
     "status": "ok",
     "timestamp": 1677035445481,
     "user": {
      "displayName": "早田智也",
      "userId": "16393380850912644517"
     },
     "user_tz": -540
    },
    "id": "dsITjOm6JDKk"
   },
   "outputs": [],
   "source": [
    "def digit_sum(n):\n",
    "    num_str = str(n)\n",
    "    sum = 0\n",
    "    for i in range(0, len(num_str)):\n",
    "        sum += int(num_str[i])\n",
    "    return sum"
   ]
  },
  {
   "cell_type": "code",
   "execution_count": 43,
   "metadata": {
    "executionInfo": {
     "elapsed": 3,
     "status": "ok",
     "timestamp": 1677035314141,
     "user": {
      "displayName": "早田智也",
      "userId": "16393380850912644517"
     },
     "user_tz": -540
    },
    "id": "pARc4frhJDKk"
   },
   "outputs": [],
   "source": []
  },
  {
   "cell_type": "markdown",
   "metadata": {
    "id": "eLl18XQPJDKk"
   },
   "source": [
    "## Measure pauli X"
   ]
  },
  {
   "cell_type": "code",
   "execution_count": 15,
   "metadata": {
    "executionInfo": {
     "elapsed": 26559,
     "status": "ok",
     "timestamp": 1677035696779,
     "user": {
      "displayName": "早田智也",
      "userId": "16393380850912644517"
     },
     "user_tz": -540
    },
    "id": "lIIc5uwMJDKl"
   },
   "outputs": [],
   "source": [
    "N=8\n",
    "hx=1.05\n",
    "hz=0.5\n",
    "T=2\n",
    "dt=0.05\n",
    "M=int(T/dt)\n",
    "times = np.arange(M)\n",
    "\n",
    "backend = Aer.get_backend(\"qasm_simulator\")\n",
    "shots = 100 # irrelevant for snapshot\n",
    "\n",
    "Sx = []\n",
    "for time in times:\n",
    "\n",
    "    q = QuantumRegister(N,\"q\")\n",
    "    c = ClassicalRegister(N,\"c\")\n",
    "    qc = QuantumCircuit(q,c)\n",
    "    \n",
    "    for _ in range(time):\n",
    "       U_ising(qc,q,hx,hz,dt)\n",
    "    \n",
    "    basis_rotation(qc,q)\n",
    "    \n",
    "    #qc.snapshot(\"1\")\n",
    "    qc.measure(q,c)\n",
    "    \n",
    "    job = execute(qc,backend=backend,shots=shots)\n",
    "    result = job.result()\n",
    "    counts = result.get_counts()\n",
    "    #snapshot = result.data()[\"snapshots\"][\"statevector\"][\"1\"][0]\n",
    "\n",
    "    r1=list(counts.keys())\n",
    "    r2=list(counts.values())\n",
    "    M=0\n",
    "    for j in range(0,len(r1)):\n",
    "        M=M+(N-2*digit_sum(r1[j]))*r2[j]/shots\n",
    "    Sx.append(M/N)"
   ]
  },
  {
   "cell_type": "code",
   "execution_count": 19,
   "metadata": {
    "colab": {
     "base_uri": "https://localhost:8080/",
     "height": 285
    },
    "executionInfo": {
     "elapsed": 5773,
     "status": "ok",
     "timestamp": 1677035825498,
     "user": {
      "displayName": "早田智也",
      "userId": "16393380850912644517"
     },
     "user_tz": -540
    },
    "id": "ckvU2Fp0JDKm",
    "outputId": "98d4e496-da44-4443-f8ce-5679716c572b"
   },
   "outputs": [
    {
     "data": {
      "image/png": "[encoded data removed]",
      "text/plain": [
       "<Figure size 432x288 with 1 Axes>"
      ]
     },
     "metadata": {},
     "output_type": "display_data"
    }
   ],
   "source": [
    "times = np.arange(int(T/0.05))\n",
    "plt.plot(0.05*times,Sx,'b-',label=r\"$h_x=1.05,h_z=0.5, dt=0.05$\")\n",
    "#plt.plot(0.05*times,Sx,'b-')\n",
    "plt.xlabel(\"$t$\")\n",
    "plt.ylabel(r\"$\\langle X\\rangle$\")\n",
    "plt.legend()\n",
    "plt.show()"
   ]
  },
  {
   "cell_type": "code",
   "execution_count": 20,
   "metadata": {
    "executionInfo": {
     "elapsed": 695,
     "status": "ok",
     "timestamp": 1677035905189,
     "user": {
      "displayName": "早田智也",
      "userId": "16393380850912644517"
     },
     "user_tz": -540
    },
    "id": "-ZLJMgMwE6w6"
   },
   "outputs": [],
   "source": [
    "np.save('hogegoe',np.array(Sx))"
   ]
  },
  {
   "cell_type": "code",
   "execution_count": 21,
   "metadata": {
    "colab": {
     "base_uri": "https://localhost:8080/"
    },
    "executionInfo": {
     "elapsed": 4,
     "status": "ok",
     "timestamp": 1677045761574,
     "user": {
      "displayName": "早田智也",
      "userId": "16393380850912644517"
     },
     "user_tz": -540
    },
    "id": "2T9vCGWMGDI4",
    "outputId": "ee112a17-e825-4e4b-85af-988dfdeef8bc"
   },
   "outputs": [
    {
     "data": {
      "text/plain": [
       "[0.10999999999999999,\n",
       " 0.01000000000000001,\n",
       " -0.012499999999999999,\n",
       " 0.04750000000000001,\n",
       " 0.08750000000000001,\n",
       " 0.20250000000000007,\n",
       " 0.29000000000000015,\n",
       " 0.4100000000000001,\n",
       " 0.43750000000000017,\n",
       " 0.5125000000000001,\n",
       " 0.545,\n",
       " 0.6074999999999998,\n",
       " 0.595,\n",
       " 0.5824999999999999,\n",
       " 0.625,\n",
       " 0.665,\n",
       " 0.5824999999999999,\n",
       " 0.5275000000000001,\n",
       " 0.6375,\n",
       " 0.565,\n",
       " 0.5750000000000001,\n",
       " 0.595,\n",
       " 0.5599999999999999,\n",
       " 0.5725,\n",
       " 0.5575000000000002,\n",
       " 0.6375000000000001,\n",
       " 0.5675000000000001,\n",
       " 0.5325,\n",
       " 0.5500000000000002,\n",
       " 0.5325,\n",
       " 0.5025000000000001,\n",
       " 0.5399999999999999,\n",
       " 0.52,\n",
       " 0.4625,\n",
       " 0.4325000000000003,\n",
       " 0.4300000000000001,\n",
       " 0.4750000000000001,\n",
       " 0.4125000000000001,\n",
       " 0.4225000000000001,\n",
       " 0.39750000000000013]"
      ]
     },
     "execution_count": 21,
     "metadata": {},
     "output_type": "execute_result"
    }
   ],
   "source": [
    "Sx"
   ]
  },
  {
   "cell_type": "code",
   "execution_count": 22,
   "metadata": {
    "colab": {
     "background_save": true,
     "base_uri": "https://localhost:8080/",
     "height": 300
    },
    "executionInfo": {
     "elapsed": 498,
     "status": "error",
     "timestamp": 1677045810867,
     "user": {
      "displayName": "早田智也",
      "userId": "16393380850912644517"
     },
     "user_tz": -540
    },
    "id": "PZI3y_hdtr9G"
   },
   "outputs": [
    {
     "ename": "FileNotFoundError",
     "evalue": "ignored",
     "output_type": "error",
     "traceback": [
      "\u001b[0;31m---------------------------------------------------------------------------\u001b[0m",
      "\u001b[0;31mFileNotFoundError\u001b[0m                         Traceback (most recent call last)",
      "\u001b[0;32m<ipython-input-24-9eab64aba83b>\u001b[0m in \u001b[0;36m<module>\u001b[0;34m\u001b[0m\n\u001b[0;32m----> 1\u001b[0;31m \u001b[0mSload\u001b[0m\u001b[0;34m=\u001b[0m\u001b[0mnp\u001b[0m\u001b[0;34m.\u001b[0m\u001b[0mload\u001b[0m\u001b[0;34m(\u001b[0m\u001b[0;34m'hogegoe'\u001b[0m\u001b[0;34m)\u001b[0m\u001b[0;34m\u001b[0m\u001b[0;34m\u001b[0m\u001b[0m\n\u001b[0m",
      "\u001b[0;32m/usr/local/lib/python3.8/dist-packages/numpy/lib/npyio.py\u001b[0m in \u001b[0;36mload\u001b[0;34m(file, mmap_mode, allow_pickle, fix_imports, encoding)\u001b[0m\n\u001b[1;32m    415\u001b[0m             \u001b[0mown_fid\u001b[0m \u001b[0;34m=\u001b[0m \u001b[0;32mFalse\u001b[0m\u001b[0;34m\u001b[0m\u001b[0;34m\u001b[0m\u001b[0m\n\u001b[1;32m    416\u001b[0m         \u001b[0;32melse\u001b[0m\u001b[0;34m:\u001b[0m\u001b[0;34m\u001b[0m\u001b[0;34m\u001b[0m\u001b[0m\n\u001b[0;32m--> 417\u001b[0;31m             \u001b[0mfid\u001b[0m \u001b[0;34m=\u001b[0m \u001b[0mstack\u001b[0m\u001b[0;34m.\u001b[0m\u001b[0menter_context\u001b[0m\u001b[0;34m(\u001b[0m\u001b[0mopen\u001b[0m\u001b[0;34m(\u001b[0m\u001b[0mos_fspath\u001b[0m\u001b[0;34m(\u001b[0m\u001b[0mfile\u001b[0m\u001b[0;34m)\u001b[0m\u001b[0;34m,\u001b[0m \u001b[0;34m\"rb\"\u001b[0m\u001b[0;34m)\u001b[0m\u001b[0;34m)\u001b[0m\u001b[0;34m\u001b[0m\u001b[0;34m\u001b[0m\u001b[0m\n\u001b[0m\u001b[1;32m    418\u001b[0m             \u001b[0mown_fid\u001b[0m \u001b[0;34m=\u001b[0m \u001b[0;32mTrue\u001b[0m\u001b[0;34m\u001b[0m\u001b[0;34m\u001b[0m\u001b[0m\n\u001b[1;32m    419\u001b[0m \u001b[0;34m\u001b[0m\u001b[0m\n",
      "\u001b[0;31mFileNotFoundError\u001b[0m: [Errno 2] No such file or directory: 'hogegoe'"
     ]
    }
   ],
   "source": [
    "Sload=np.load('hogegoe')"
   ]
  },
  {
   "cell_type": "code",
   "execution_count": null,
   "metadata": {
    "colab": {
     "background_save": true
    },
    "id": "eDATxfcJuD8H"
   },
   "outputs": [
    {
     "data": {
      "text/plain": [
       "array([ 0.11  ,  0.01  , -0.0125,  0.0475,  0.0875,  0.2025,  0.29  ,\n",
       "        0.41  ,  0.4375,  0.5125,  0.545 ,  0.6075,  0.595 ,  0.5825,\n",
       "        0.625 ,  0.665 ,  0.5825,  0.5275,  0.6375,  0.565 ,  0.575 ,\n",
       "        0.595 ,  0.56  ,  0.5725,  0.5575,  0.6375,  0.5675,  0.5325,\n",
       "        0.55  ,  0.5325,  0.5025,  0.54  ,  0.52  ,  0.4625,  0.4325,\n",
       "        0.43  ,  0.475 ,  0.4125,  0.4225,  0.3975])"
      ]
     },
     "execution_count": 26,
     "metadata": {},
     "output_type": "execute_result"
    }
   ],
   "source": []
  }
 ],
 "metadata": {
  "colab": {
   "name": "",
   "version": ""
  },
  "kernelspec": {
   "display_name": "Python 3 (ipykernel)",
   "language": "python",
   "name": "python3"
  },
  "language_info": {
   "codemirror_mode": {
    "name": "ipython",
    "version": 3
   },
   "file_extension": ".py",
   "mimetype": "text/x-python",
   "name": "python",
   "nbconvert_exporter": "python",
   "pygments_lexer": "ipython3",
   "version": "3.11.5"
  }
 },
 "nbformat": 4,
 "nbformat_minor": 4
}

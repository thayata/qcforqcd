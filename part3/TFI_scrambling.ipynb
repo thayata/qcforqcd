{
 "cells": [
  {
   "cell_type": "code",
   "execution_count": 1,
   "id": "84eef2e0",
   "metadata": {},
   "outputs": [],
   "source": [
    "import numpy as np\n",
    "from scipy import sparse\n",
    "from scipy.sparse.linalg import expm_multiply as expm\n",
    "import matplotlib.pyplot as plt"
   ]
  },
  {
   "cell_type": "code",
   "execution_count": 2,
   "id": "2aceffb7",
   "metadata": {},
   "outputs": [],
   "source": [
    "def speye(a):\n",
    "    return sparse.eye(a,format=\"csr\")\n",
    "\n",
    "def skron(a,b):\n",
    "    return sparse.kron(a,b,format=\"csr\")"
   ]
  },
  {
   "cell_type": "code",
   "execution_count": 3,
   "id": "924619a5",
   "metadata": {},
   "outputs": [],
   "source": [
    "s0=speye(2)\n",
    "sz=sparse.csr_matrix(np.array([[1.,0.],[0.,-1.]]))\n",
    "sx=sparse.csr_matrix(np.array([[0.,1.],[1.,0.]]))\n",
    "sy=sparse.csr_matrix(np.array([[0.,-1.j],[1.j,0.]]))"
   ]
  },
  {
   "cell_type": "code",
   "execution_count": 4,
   "id": "6079371a",
   "metadata": {},
   "outputs": [],
   "source": [
    "def Hamiltonian(N,hx,hz):\n",
    "    ##R=1qubit  \n",
    "    \n",
    "    H=sparse.csr_matrix((2**N,2**N))\n",
    "\n",
    "    for ii in range(N):\n",
    "        H-=hx*skron(speye(2**(N-ii-1)),skron(sx,speye(2**ii)))\n",
    "    \n",
    "    for ii in range(N):\n",
    "        H-=hz*skron(speye(2**(N-ii-1)),skron(sz,speye(2**(ii))))\n",
    "\n",
    "    for ii in range(N-1):\n",
    "        H-=skron(speye(2**(N-ii-2)),skron(skron(sz,sz),speye(2**(ii))))\n",
    "        \n",
    "    H=skron(speye(2**N),skron(H,speye(2**2)))-skron(H,speye(2**(N+2)))\n",
    "    \n",
    "    return H"
   ]
  },
  {
   "cell_type": "code",
   "execution_count": 5,
   "id": "1fd152d0",
   "metadata": {},
   "outputs": [],
   "source": [
    "def init():\n",
    "    # initial state  (R A) (B B') (A' R') ( ) is EPR pairs\n",
    "    #2qubit EPR pairs\n",
    "    EPR2=np.eye(2)\n",
    "    EPR2=EPR2.reshape(-1)\n",
    "    EPR2=EPR2/np.sqrt(EPR2.dot(EPR2))\n",
    "    #initial state\n",
    "    psi=np.kron(EPR2,np.kron(EPR2,np.kron(EPR2,np.kron(EPR2,np.kron(EPR2,np.kron(EPR2,np.kron(EPR2,np.kron(EPR2,EPR2))))))))\n",
    "\n",
    "    psi=psi.reshape(2,2,2,2,2,2,2,2,2,2,2,2,2,2,2,2,2,2)\n",
    "    # (A',R') (A,R) (14,16) (15,17)                                                                                            \n",
    "    psi=psi.transpose(0,2,4,6,8,10,12,14,1,3,5,7,9,11,13,16,15,17)\n",
    "    psi=psi.reshape(-1)\n",
    "    \n",
    "    return psi"
   ]
  },
  {
   "cell_type": "code",
   "execution_count": 6,
   "id": "9cd3a308",
   "metadata": {},
   "outputs": [],
   "source": [
    "def EPRmeasure():\n",
    "    d=1.0/16.0\n",
    "\n",
    "    Pi=skron(skron(speye(2**0),skron(s0,s0)),skron(speye(2**(N-2)),skron(skron(s0,s0),speye(2**N))))\n",
    "    Pi=Pi+skron(skron(speye(2**0),skron(sx,s0)),skron(speye(2**(N-2)),skron(skron(sx,s0),speye(2**N))))\n",
    "    Pi=Pi-skron(skron(speye(2**0),skron(sy,s0)),skron(speye(2**(N-2)),skron(skron(sy,s0),speye(2**N))))\n",
    "    Pi=Pi+skron(skron(speye(2**0),skron(sz,s0)),skron(speye(2**(N-2)),skron(skron(sz,s0),speye(2**N))))\n",
    "\n",
    "    Pi=Pi+skron(skron(speye(2**0),skron(s0,sx)),skron(speye(2**(N-2)),skron(skron(s0,sx),speye(2**N))))\n",
    "    Pi=Pi+skron(skron(speye(2**0),skron(sx,sx)),skron(speye(2**(N-2)),skron(skron(sx,sx),speye(2**N))))\n",
    "    Pi=Pi-skron(skron(speye(2**0),skron(sy,sx)),skron(speye(2**(N-2)),skron(skron(sy,sx),speye(2**N))))\n",
    "    Pi=Pi+skron(skron(speye(2**0),skron(sz,sx)),skron(speye(2**(N-2)),skron(skron(sz,sx),speye(2**N))))\n",
    "\n",
    "    Pi=Pi-skron(skron(speye(2**0),skron(s0,sy)),skron(speye(2**(N-2)),skron(skron(s0,sy),speye(2**N))))\n",
    "    Pi=Pi-skron(skron(speye(2**0),skron(sx,sy)),skron(speye(2**(N-2)),skron(skron(sx,sy),speye(2**N))))\n",
    "    Pi=Pi+skron(skron(speye(2**0),skron(sy,sy)),skron(speye(2**(N-2)),skron(skron(sy,sy),speye(2**N))))\n",
    "    Pi=Pi-skron(skron(speye(2**0),skron(sz,sy)),skron(speye(2**(N-2)),skron(skron(sz,sy),speye(2**N))))\n",
    "\n",
    "    Pi=Pi+skron(skron(speye(2**0),skron(s0,sz)),skron(speye(2**(N-2)),skron(skron(s0,sz),speye(2**N))))\n",
    "    Pi=Pi+skron(skron(speye(2**0),skron(sx,sz)),skron(speye(2**(N-2)),skron(skron(sx,sz),speye(2**N))))\n",
    "    Pi=Pi-skron(skron(speye(2**0),skron(sy,sz)),skron(speye(2**(N-2)),skron(skron(sy,sz),speye(2**N))))\n",
    "    Pi=Pi+skron(skron(speye(2**0),skron(sz,sz)),skron(speye(2**(N-2)),skron(skron(sz,sz),speye(2**N))))\n",
    "\n",
    "    Pi=d*Pi.real\n",
    "    \n",
    "    return Pi"
   ]
  },
  {
   "cell_type": "code",
   "execution_count": 7,
   "id": "f12eb723",
   "metadata": {},
   "outputs": [],
   "source": [
    "def evolution(H,obs,T,t,psi0,dt=0.005):\n",
    "\n",
    "    psi=psi0.copy()\n",
    "    step=int(t/dt)\n",
    "    ts=int(T/(dt*step))\n",
    "    time=step*dt*np.arange(ts+1)\n",
    "    \n",
    "    psitemp=obs*psi\n",
    "    z=np.array([psitemp.dot(psi.conjugate())])\n",
    "    \n",
    "    psi2=np.zeros_like(psi)\n",
    "    for ii in range(ts):\n",
    "        for _ in range(step):\n",
    "            psi2=psi2-dt*H*psi\n",
    "            psi=psi+dt*H*psi2\n",
    "        #EPR measurement\n",
    "        psitemp=obs*(psi+1j*psi2)\n",
    "        z = np.append(z,psitemp.dot((psi+1j*psi2).conjugate()))\n",
    "\n",
    "    return time,z.real"
   ]
  },
  {
   "cell_type": "code",
   "execution_count": null,
   "id": "a81e6cb9",
   "metadata": {},
   "outputs": [],
   "source": []
  },
  {
   "cell_type": "code",
   "execution_count": null,
   "id": "1ba3597e",
   "metadata": {},
   "outputs": [],
   "source": []
  },
  {
   "cell_type": "code",
   "execution_count": 8,
   "id": "571ae270",
   "metadata": {},
   "outputs": [],
   "source": [
    "hx=1.05\n",
    "hz=0.5\n",
    "T=10\n",
    "t=0.05\n",
    "N=8\n",
    "H=Hamiltonian(N,hx,hz)\n",
    "obs=EPRmeasure()\n",
    "psi=init()\n",
    "time_ch, y_ch= evolution(H,obs,T,t,psi)"
   ]
  },
  {
   "cell_type": "code",
   "execution_count": 9,
   "id": "c180c948",
   "metadata": {},
   "outputs": [],
   "source": [
    "hx=1.0\n",
    "hz=0.\n",
    "T=10\n",
    "t=0.05\n",
    "N=8\n",
    "H=Hamiltonian(N,hx,hz)\n",
    "obs=EPRmeasure()\n",
    "psi=init()\n",
    "time_cr, y_cr= evolution(H,obs,T,t,psi)"
   ]
  },
  {
   "cell_type": "code",
   "execution_count": 10,
   "id": "4c87ad6e",
   "metadata": {},
   "outputs": [],
   "source": [
    "hx=0.\n",
    "hz=0.\n",
    "t=0.05\n",
    "N=8\n",
    "H=Hamiltonian(N,hx,hz)\n",
    "obs=EPRmeasure()\n",
    "psi=init()\n",
    "time_cl, y_cl= evolution(H,obs,T,t,psi)"
   ]
  },
  {
   "cell_type": "code",
   "execution_count": null,
   "id": "bbae85aa",
   "metadata": {},
   "outputs": [],
   "source": []
  },
  {
   "cell_type": "code",
   "execution_count": null,
   "id": "c44ab260",
   "metadata": {},
   "outputs": [],
   "source": []
  },
  {
   "cell_type": "code",
   "execution_count": 11,
   "id": "4de8a4d1",
   "metadata": {},
   "outputs": [],
   "source": [
    "N=8\n",
    "NA=1\n",
    "ND=2\n",
    "NB=N-NA\n",
    "NC=N-ND\n",
    "\n",
    "T=10\n",
    "dt=0.1\n",
    "M=int(T/dt)\n",
    "x2=dt*np.arange(M+1)"
   ]
  },
  {
   "cell_type": "code",
   "execution_count": 12,
   "id": "5e787e52",
   "metadata": {},
   "outputs": [],
   "source": [
    "def F_haar(NA,ND):\n",
    "    dA = 2**NA\n",
    "    dD = 2**ND\n",
    "    return 1/(1+(dA/dD)**2-dD**(-2))\n",
    "\n",
    "def P_haar(NA,ND):\n",
    "    dA = 2**NA\n",
    "    dD = 2**ND\n",
    "    return dA**(-2) + dD**(-2)-(dA*dD)**(-2)"
   ]
  },
  {
   "cell_type": "code",
   "execution_count": 13,
   "id": "32b3e5eb",
   "metadata": {},
   "outputs": [
    {
     "data": {
      "image/png": "[encoded data removed]",
      "text/plain": [
       "<Figure size 432x288 with 1 Axes>"
      ]
     },
     "metadata": {
      "needs_background": "light"
     },
     "output_type": "display_data"
    }
   ],
   "source": [
    "plt.plot(time_cl,P_haar(NA,ND)+0*time_cl,linewidth=1,color=\"black\",label=\"Haar\")\n",
    "\n",
    "plt.plot(time_cl,y_cl,'r-', linewidth=1,label=\"classical Ising\")\n",
    "plt.plot(time_cr,y_cr,'g-', linewidth=1,label=\"crtical Ising\")\n",
    "plt.plot(time_ch,y_ch,'b-', linewidth=1,label=\"chaotic Ising\")\n",
    "\n",
    "\n",
    "plt.xlabel(\"$t$\", fontsize=14)\n",
    "plt.ylabel(r\"$P_{EPR}$\", fontsize=14)\n",
    "plt.tick_params(labelsize=14)\n",
    "plt.xlim([0.,T])\n",
    "plt.ylim([0.0,1.05])\n",
    "plt.title(f\"$N={N}, N_A={NA}, N_D={ND}$\", fontsize=12) #dt={dt}\n",
    "legend =plt.legend(bbox_to_anchor=(0, 0.26), loc='lower left', borderaxespad=1, fontsize=8)\n",
    "frame = legend.get_frame()\n",
    "frame.set_linewidth(0)\n",
    "plt.show()"
   ]
  },
  {
   "cell_type": "code",
   "execution_count": 15,
   "id": "601163ee",
   "metadata": {},
   "outputs": [
    {
     "data": {
      "image/png": "[encoded data removed]",
      "text/plain": [
       "<Figure size 432x288 with 1 Axes>"
      ]
     },
     "metadata": {
      "needs_background": "light"
     },
     "output_type": "display_data"
    }
   ],
   "source": [
    "plt.plot(time_cl,F_haar(NA,ND)+0*time_cl,linewidth=1,color=\"black\",label=\"Haar\")\n",
    "\n",
    "plt.plot(time_cl,1.0/(2**2*y_cl),'g-', linewidth=1,label=\"classical Ising\")\n",
    "plt.plot(time_cr,1.0/(2**2*y_cr),'r-', linewidth=1,label=\"crtical Ising\")\n",
    "plt.plot(time_ch,1.0/(2**2*y_ch),'b-',linewidth=1,label=\"chaotic Ising\")\n",
    "\n",
    "plt.xlabel(\"$t$\", fontsize=14)\n",
    "plt.ylabel(r\"$F_{EPR}$\", fontsize=14)\n",
    "plt.tick_params(labelsize=14)\n",
    "plt.xlim([0.,T])\n",
    "plt.ylim([0.,1.0])\n",
    "plt.title(f\"$N={N}, N_A={NA}, N_D={ND}$\", fontsize=12) #dt={dt}\n",
    "legend=plt.legend(bbox_to_anchor=(0, 0.5), loc='lower left', borderaxespad=1, fontsize=8)\n",
    "frame = legend.get_frame()\n",
    "frame.set_linewidth(0)\n",
    "plt.show()"
   ]
  },
  {
   "cell_type": "code",
   "execution_count": null,
   "id": "6c896d5c",
   "metadata": {},
   "outputs": [],
   "source": []
  },
  {
   "cell_type": "code",
   "execution_count": null,
   "id": "e7d314fd",
   "metadata": {},
   "outputs": [],
   "source": []
  }
 ],
 "metadata": {
  "kernelspec": {
   "display_name": "Python 3 (ipykernel)",
   "language": "python",
   "name": "python3"
  },
  "language_info": {
   "codemirror_mode": {
    "name": "ipython",
    "version": 3
   },
   "file_extension": ".py",
   "mimetype": "text/x-python",
   "name": "python",
   "nbconvert_exporter": "python",
   "pygments_lexer": "ipython3",
   "version": "3.9.12"
  }
 },
 "nbformat": 4,
 "nbformat_minor": 5
}
